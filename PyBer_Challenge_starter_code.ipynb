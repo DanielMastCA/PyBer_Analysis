{
 "cells": [
  {
   "cell_type": "markdown",
   "metadata": {},
   "source": [
    "# Pyber Challenge"
   ]
  },
  {
   "cell_type": "markdown",
   "metadata": {},
   "source": [
    "### 4.3 Loading and Reading CSV files"
   ]
  },
  {
   "cell_type": "code",
   "execution_count": 80,
   "metadata": {},
   "outputs": [],
   "source": [
    "# Add Matplotlib inline magic command\n",
    "%matplotlib widget\n",
    "# Dependencies and Setup\n",
    "import matplotlib.pyplot as plt\n",
    "import pandas as pd\n",
    "import os\n",
    "\n",
    "# File to Load (Remember to change these)\n",
    "city_data_to_load = os.path.join(\"resources\", \"city_data.csv\")\n",
    "ride_data_to_load = os.path.join(\"resources\", \"ride_data.csv\")\n",
    "\n",
    "# Read the City and Ride Data\n",
    "city_data_df = pd.read_csv(city_data_to_load)\n",
    "ride_data_df = pd.read_csv(ride_data_to_load)"
   ]
  },
  {
   "cell_type": "markdown",
   "metadata": {},
   "source": [
    "### Merge the DataFrames"
   ]
  },
  {
   "cell_type": "code",
   "execution_count": 81,
   "metadata": {
    "scrolled": true
   },
   "outputs": [
    {
     "data": {
      "text/html": [
       "<div>\n",
       "<style scoped>\n",
       "    .dataframe tbody tr th:only-of-type {\n",
       "        vertical-align: middle;\n",
       "    }\n",
       "\n",
       "    .dataframe tbody tr th {\n",
       "        vertical-align: top;\n",
       "    }\n",
       "\n",
       "    .dataframe thead th {\n",
       "        text-align: right;\n",
       "    }\n",
       "</style>\n",
       "<table border=\"1\" class=\"dataframe\">\n",
       "  <thead>\n",
       "    <tr style=\"text-align: right;\">\n",
       "      <th></th>\n",
       "      <th>city</th>\n",
       "      <th>date</th>\n",
       "      <th>fare</th>\n",
       "      <th>ride_id</th>\n",
       "      <th>driver_count</th>\n",
       "      <th>type</th>\n",
       "    </tr>\n",
       "  </thead>\n",
       "  <tbody>\n",
       "    <tr>\n",
       "      <th>0</th>\n",
       "      <td>Lake Jonathanshire</td>\n",
       "      <td>2019-01-14 10:14:22</td>\n",
       "      <td>13.83</td>\n",
       "      <td>5739410935873</td>\n",
       "      <td>5</td>\n",
       "      <td>Urban</td>\n",
       "    </tr>\n",
       "    <tr>\n",
       "      <th>1</th>\n",
       "      <td>South Michelleport</td>\n",
       "      <td>2019-03-04 18:24:09</td>\n",
       "      <td>30.24</td>\n",
       "      <td>2343912425577</td>\n",
       "      <td>72</td>\n",
       "      <td>Urban</td>\n",
       "    </tr>\n",
       "    <tr>\n",
       "      <th>2</th>\n",
       "      <td>Port Samanthamouth</td>\n",
       "      <td>2019-02-24 04:29:00</td>\n",
       "      <td>33.44</td>\n",
       "      <td>2005065760003</td>\n",
       "      <td>57</td>\n",
       "      <td>Urban</td>\n",
       "    </tr>\n",
       "    <tr>\n",
       "      <th>3</th>\n",
       "      <td>Rodneyfort</td>\n",
       "      <td>2019-02-10 23:22:03</td>\n",
       "      <td>23.44</td>\n",
       "      <td>5149245426178</td>\n",
       "      <td>34</td>\n",
       "      <td>Urban</td>\n",
       "    </tr>\n",
       "    <tr>\n",
       "      <th>4</th>\n",
       "      <td>South Jack</td>\n",
       "      <td>2019-03-06 04:28:35</td>\n",
       "      <td>34.58</td>\n",
       "      <td>3908451377344</td>\n",
       "      <td>46</td>\n",
       "      <td>Urban</td>\n",
       "    </tr>\n",
       "  </tbody>\n",
       "</table>\n",
       "</div>"
      ],
      "text/plain": [
       "                 city                 date   fare        ride_id  \\\n",
       "0  Lake Jonathanshire  2019-01-14 10:14:22  13.83  5739410935873   \n",
       "1  South Michelleport  2019-03-04 18:24:09  30.24  2343912425577   \n",
       "2  Port Samanthamouth  2019-02-24 04:29:00  33.44  2005065760003   \n",
       "3          Rodneyfort  2019-02-10 23:22:03  23.44  5149245426178   \n",
       "4          South Jack  2019-03-06 04:28:35  34.58  3908451377344   \n",
       "\n",
       "   driver_count   type  \n",
       "0             5  Urban  \n",
       "1            72  Urban  \n",
       "2            57  Urban  \n",
       "3            34  Urban  \n",
       "4            46  Urban  "
      ]
     },
     "execution_count": 81,
     "metadata": {},
     "output_type": "execute_result"
    }
   ],
   "source": [
    "# Combine the data into a single dataset\n",
    "pyber_data_df = pd.merge(ride_data_df, city_data_df, how=\"left\", on=[\"city\", \"city\"])\n",
    "\n",
    "# Display the data table for preview\n",
    "pyber_data_df.head()"
   ]
  },
  {
   "cell_type": "markdown",
   "metadata": {},
   "source": [
    "## Deliverable 1: Get a Summary DataFrame "
   ]
  },
  {
   "cell_type": "code",
   "execution_count": 82,
   "metadata": {},
   "outputs": [
    {
     "data": {
      "text/plain": [
       "type\n",
       "Rural        125\n",
       "Suburban     625\n",
       "Urban       1625\n",
       "Name: ride_id, dtype: int64"
      ]
     },
     "execution_count": 82,
     "metadata": {},
     "output_type": "execute_result"
    }
   ],
   "source": [
    "#  1. Get the total rides for each city type\n",
    "per_type_ride_count = pyber_data_df.groupby(\"type\").count()[\"ride_id\"]\n",
    "per_type_ride_count"
   ]
  },
  {
   "cell_type": "code",
   "execution_count": 83,
   "metadata": {},
   "outputs": [
    {
     "data": {
      "text/plain": [
       "type\n",
       "Rural         78\n",
       "Suburban     490\n",
       "Urban       2405\n",
       "Name: driver_count, dtype: int64"
      ]
     },
     "execution_count": 83,
     "metadata": {},
     "output_type": "execute_result"
    }
   ],
   "source": [
    "# 2. Get the total drivers for each city type\n",
    "per_type_driver_count = city_data_df.groupby(\"type\")[\"driver_count\"].sum()\n",
    "per_type_driver_count"
   ]
  },
  {
   "cell_type": "code",
   "execution_count": 84,
   "metadata": {},
   "outputs": [
    {
     "data": {
      "text/plain": [
       "type\n",
       "Rural        4327.93\n",
       "Suburban    19356.33\n",
       "Urban       39854.38\n",
       "Name: fare, dtype: float64"
      ]
     },
     "execution_count": 84,
     "metadata": {},
     "output_type": "execute_result"
    }
   ],
   "source": [
    "#  3. Get the total amount of fares for each city type\n",
    "per_type_fare = pyber_data_df.groupby(\"type\").sum()[\"fare\"]\n",
    "per_type_fare"
   ]
  },
  {
   "cell_type": "code",
   "execution_count": 85,
   "metadata": {},
   "outputs": [
    {
     "data": {
      "text/plain": [
       "type\n",
       "Rural       34.623440\n",
       "Suburban    30.970128\n",
       "Urban       24.525772\n",
       "dtype: float64"
      ]
     },
     "execution_count": 85,
     "metadata": {},
     "output_type": "execute_result"
    }
   ],
   "source": [
    "#  4. Get the average fare per ride for each city type. \n",
    "per_type_average_fare_per_ride = per_type_fare / per_type_ride_count\n",
    "per_type_average_fare_per_ride"
   ]
  },
  {
   "cell_type": "code",
   "execution_count": 86,
   "metadata": {},
   "outputs": [
    {
     "data": {
      "text/plain": [
       "type\n",
       "Rural       55.486282\n",
       "Suburban    39.502714\n",
       "Urban       16.571468\n",
       "dtype: float64"
      ]
     },
     "execution_count": 86,
     "metadata": {},
     "output_type": "execute_result"
    }
   ],
   "source": [
    "# 5. Get the average fare per driver for each city type. \n",
    "per_type_average_fare_per_driver = per_type_fare / per_type_driver_count\n",
    "per_type_average_fare_per_driver"
   ]
  },
  {
   "cell_type": "code",
   "execution_count": 87,
   "metadata": {},
   "outputs": [
    {
     "data": {
      "text/html": [
       "<div>\n",
       "<style scoped>\n",
       "    .dataframe tbody tr th:only-of-type {\n",
       "        vertical-align: middle;\n",
       "    }\n",
       "\n",
       "    .dataframe tbody tr th {\n",
       "        vertical-align: top;\n",
       "    }\n",
       "\n",
       "    .dataframe thead th {\n",
       "        text-align: right;\n",
       "    }\n",
       "</style>\n",
       "<table border=\"1\" class=\"dataframe\">\n",
       "  <thead>\n",
       "    <tr style=\"text-align: right;\">\n",
       "      <th></th>\n",
       "      <th>Total Rides</th>\n",
       "      <th>Total Drivers</th>\n",
       "      <th>Total Fares</th>\n",
       "      <th>Average Fare per Ride</th>\n",
       "      <th>Average Fare per Driver</th>\n",
       "    </tr>\n",
       "    <tr>\n",
       "      <th>type</th>\n",
       "      <th></th>\n",
       "      <th></th>\n",
       "      <th></th>\n",
       "      <th></th>\n",
       "      <th></th>\n",
       "    </tr>\n",
       "  </thead>\n",
       "  <tbody>\n",
       "    <tr>\n",
       "      <th>Rural</th>\n",
       "      <td>125</td>\n",
       "      <td>78</td>\n",
       "      <td>$4327.93</td>\n",
       "      <td>$34.62</td>\n",
       "      <td>$55.49</td>\n",
       "    </tr>\n",
       "    <tr>\n",
       "      <th>Suburban</th>\n",
       "      <td>625</td>\n",
       "      <td>490</td>\n",
       "      <td>$19356.33</td>\n",
       "      <td>$30.97</td>\n",
       "      <td>$39.50</td>\n",
       "    </tr>\n",
       "    <tr>\n",
       "      <th>Urban</th>\n",
       "      <td>1625</td>\n",
       "      <td>2405</td>\n",
       "      <td>$39854.38</td>\n",
       "      <td>$24.53</td>\n",
       "      <td>$16.57</td>\n",
       "    </tr>\n",
       "  </tbody>\n",
       "</table>\n",
       "</div>"
      ],
      "text/plain": [
       "          Total Rides  Total Drivers Total Fares Average Fare per Ride  \\\n",
       "type                                                                     \n",
       "Rural             125             78    $4327.93                $34.62   \n",
       "Suburban          625            490   $19356.33                $30.97   \n",
       "Urban            1625           2405   $39854.38                $24.53   \n",
       "\n",
       "         Average Fare per Driver  \n",
       "type                              \n",
       "Rural                     $55.49  \n",
       "Suburban                  $39.50  \n",
       "Urban                     $16.57  "
      ]
     },
     "execution_count": 87,
     "metadata": {},
     "output_type": "execute_result"
    }
   ],
   "source": [
    "#  6. Create a PyBer summary DataFrame. \n",
    "pyber_summary_df = pd.DataFrame({\n",
    "    \"Total Rides\" : per_type_ride_count,\n",
    "    \"Total Drivers\" : per_type_driver_count,\n",
    "    \"Total Fares\" : per_type_fare.map(\"${:.2f}\".format),\n",
    "    \"Average Fare per Ride\" : per_type_average_fare_per_ride.map(\"${:.2f}\".format),\n",
    "    \"Average Fare per Driver\" : per_type_average_fare_per_driver.map(\"${:.2f}\".format)\n",
    "})\n",
    "pyber_summary_df"
   ]
  },
  {
   "cell_type": "code",
   "execution_count": 88,
   "metadata": {},
   "outputs": [],
   "source": [
    "#  7. Cleaning up the DataFrame. Delete the index name\n",
    "pyber_summary_df.index.name = None"
   ]
  },
  {
   "cell_type": "markdown",
   "metadata": {},
   "source": [
    "## Deliverable 2.  Create a multiple line plot that shows the total weekly of the fares for each type of city."
   ]
  },
  {
   "cell_type": "code",
   "execution_count": 104,
   "metadata": {},
   "outputs": [
    {
     "data": {
      "text/plain": [
       "date                 type    \n",
       "2019-01-01 00:08:16  Urban       37.91\n",
       "2019-01-01 00:46:46  Suburban    47.74\n",
       "2019-01-01 02:07:24  Suburban    24.07\n",
       "2019-01-01 03:46:50  Urban        7.57\n",
       "2019-01-01 05:23:21  Urban       10.75\n",
       "                                 ...  \n",
       "2019-05-08 04:20:00  Urban       21.99\n",
       "2019-05-08 04:39:49  Urban       18.45\n",
       "2019-05-08 07:29:01  Urban       18.55\n",
       "2019-05-08 11:38:35  Urban       19.77\n",
       "2019-05-08 13:10:18  Urban       18.04\n",
       "Name: fare, Length: 2375, dtype: float64"
      ]
     },
     "execution_count": 104,
     "metadata": {},
     "output_type": "execute_result"
    }
   ],
   "source": [
    "# 2. Using groupby() to create a new DataFrame showing the sum of the fares \n",
    "#  for each date where the indices are the city type and date.\n",
    "by_date_pyber_data_df = pyber_data_df.groupby([\"date\", \"type\"])[\"fare\"].sum()\n",
    "by_date_pyber_data_df"
   ]
  },
  {
   "cell_type": "code",
   "execution_count": 105,
   "metadata": {},
   "outputs": [
    {
     "data": {
      "text/html": [
       "<div>\n",
       "<style scoped>\n",
       "    .dataframe tbody tr th:only-of-type {\n",
       "        vertical-align: middle;\n",
       "    }\n",
       "\n",
       "    .dataframe tbody tr th {\n",
       "        vertical-align: top;\n",
       "    }\n",
       "\n",
       "    .dataframe thead th {\n",
       "        text-align: right;\n",
       "    }\n",
       "</style>\n",
       "<table border=\"1\" class=\"dataframe\">\n",
       "  <thead>\n",
       "    <tr style=\"text-align: right;\">\n",
       "      <th></th>\n",
       "      <th>date</th>\n",
       "      <th>type</th>\n",
       "      <th>fare</th>\n",
       "    </tr>\n",
       "  </thead>\n",
       "  <tbody>\n",
       "    <tr>\n",
       "      <th>0</th>\n",
       "      <td>2019-01-01 00:08:16</td>\n",
       "      <td>Urban</td>\n",
       "      <td>37.91</td>\n",
       "    </tr>\n",
       "    <tr>\n",
       "      <th>1</th>\n",
       "      <td>2019-01-01 00:46:46</td>\n",
       "      <td>Suburban</td>\n",
       "      <td>47.74</td>\n",
       "    </tr>\n",
       "    <tr>\n",
       "      <th>2</th>\n",
       "      <td>2019-01-01 02:07:24</td>\n",
       "      <td>Suburban</td>\n",
       "      <td>24.07</td>\n",
       "    </tr>\n",
       "    <tr>\n",
       "      <th>3</th>\n",
       "      <td>2019-01-01 03:46:50</td>\n",
       "      <td>Urban</td>\n",
       "      <td>7.57</td>\n",
       "    </tr>\n",
       "    <tr>\n",
       "      <th>4</th>\n",
       "      <td>2019-01-01 05:23:21</td>\n",
       "      <td>Urban</td>\n",
       "      <td>10.75</td>\n",
       "    </tr>\n",
       "    <tr>\n",
       "      <th>...</th>\n",
       "      <td>...</td>\n",
       "      <td>...</td>\n",
       "      <td>...</td>\n",
       "    </tr>\n",
       "    <tr>\n",
       "      <th>2370</th>\n",
       "      <td>2019-05-08 04:20:00</td>\n",
       "      <td>Urban</td>\n",
       "      <td>21.99</td>\n",
       "    </tr>\n",
       "    <tr>\n",
       "      <th>2371</th>\n",
       "      <td>2019-05-08 04:39:49</td>\n",
       "      <td>Urban</td>\n",
       "      <td>18.45</td>\n",
       "    </tr>\n",
       "    <tr>\n",
       "      <th>2372</th>\n",
       "      <td>2019-05-08 07:29:01</td>\n",
       "      <td>Urban</td>\n",
       "      <td>18.55</td>\n",
       "    </tr>\n",
       "    <tr>\n",
       "      <th>2373</th>\n",
       "      <td>2019-05-08 11:38:35</td>\n",
       "      <td>Urban</td>\n",
       "      <td>19.77</td>\n",
       "    </tr>\n",
       "    <tr>\n",
       "      <th>2374</th>\n",
       "      <td>2019-05-08 13:10:18</td>\n",
       "      <td>Urban</td>\n",
       "      <td>18.04</td>\n",
       "    </tr>\n",
       "  </tbody>\n",
       "</table>\n",
       "<p>2375 rows × 3 columns</p>\n",
       "</div>"
      ],
      "text/plain": [
       "                     date      type   fare\n",
       "0     2019-01-01 00:08:16     Urban  37.91\n",
       "1     2019-01-01 00:46:46  Suburban  47.74\n",
       "2     2019-01-01 02:07:24  Suburban  24.07\n",
       "3     2019-01-01 03:46:50     Urban   7.57\n",
       "4     2019-01-01 05:23:21     Urban  10.75\n",
       "...                   ...       ...    ...\n",
       "2370  2019-05-08 04:20:00     Urban  21.99\n",
       "2371  2019-05-08 04:39:49     Urban  18.45\n",
       "2372  2019-05-08 07:29:01     Urban  18.55\n",
       "2373  2019-05-08 11:38:35     Urban  19.77\n",
       "2374  2019-05-08 13:10:18     Urban  18.04\n",
       "\n",
       "[2375 rows x 3 columns]"
      ]
     },
     "execution_count": 105,
     "metadata": {},
     "output_type": "execute_result"
    }
   ],
   "source": [
    "# 3. Reset the index on the DataFrame you created in #1. This is needed to use the 'pivot()' function.\n",
    "# df = df.reset_index()\n",
    "by_date_pyber_data_df = by_date_pyber_data_df.reset_index()\n",
    "by_date_pyber_data_df"
   ]
  },
  {
   "cell_type": "code",
   "execution_count": 107,
   "metadata": {},
   "outputs": [
    {
     "data": {
      "text/html": [
       "<div>\n",
       "<style scoped>\n",
       "    .dataframe tbody tr th:only-of-type {\n",
       "        vertical-align: middle;\n",
       "    }\n",
       "\n",
       "    .dataframe tbody tr th {\n",
       "        vertical-align: top;\n",
       "    }\n",
       "\n",
       "    .dataframe thead th {\n",
       "        text-align: right;\n",
       "    }\n",
       "</style>\n",
       "<table border=\"1\" class=\"dataframe\">\n",
       "  <thead>\n",
       "    <tr style=\"text-align: right;\">\n",
       "      <th>type</th>\n",
       "      <th>Rural</th>\n",
       "      <th>Suburban</th>\n",
       "      <th>Urban</th>\n",
       "    </tr>\n",
       "    <tr>\n",
       "      <th>date</th>\n",
       "      <th></th>\n",
       "      <th></th>\n",
       "      <th></th>\n",
       "    </tr>\n",
       "  </thead>\n",
       "  <tbody>\n",
       "    <tr>\n",
       "      <th>2019-01-01 00:08:16</th>\n",
       "      <td>NaN</td>\n",
       "      <td>NaN</td>\n",
       "      <td>37.91</td>\n",
       "    </tr>\n",
       "    <tr>\n",
       "      <th>2019-01-01 00:46:46</th>\n",
       "      <td>NaN</td>\n",
       "      <td>47.74</td>\n",
       "      <td>NaN</td>\n",
       "    </tr>\n",
       "    <tr>\n",
       "      <th>2019-01-01 02:07:24</th>\n",
       "      <td>NaN</td>\n",
       "      <td>24.07</td>\n",
       "      <td>NaN</td>\n",
       "    </tr>\n",
       "    <tr>\n",
       "      <th>2019-01-01 03:46:50</th>\n",
       "      <td>NaN</td>\n",
       "      <td>NaN</td>\n",
       "      <td>7.57</td>\n",
       "    </tr>\n",
       "    <tr>\n",
       "      <th>2019-01-01 05:23:21</th>\n",
       "      <td>NaN</td>\n",
       "      <td>NaN</td>\n",
       "      <td>10.75</td>\n",
       "    </tr>\n",
       "    <tr>\n",
       "      <th>...</th>\n",
       "      <td>...</td>\n",
       "      <td>...</td>\n",
       "      <td>...</td>\n",
       "    </tr>\n",
       "    <tr>\n",
       "      <th>2019-05-08 04:20:00</th>\n",
       "      <td>NaN</td>\n",
       "      <td>NaN</td>\n",
       "      <td>21.99</td>\n",
       "    </tr>\n",
       "    <tr>\n",
       "      <th>2019-05-08 04:39:49</th>\n",
       "      <td>NaN</td>\n",
       "      <td>NaN</td>\n",
       "      <td>18.45</td>\n",
       "    </tr>\n",
       "    <tr>\n",
       "      <th>2019-05-08 07:29:01</th>\n",
       "      <td>NaN</td>\n",
       "      <td>NaN</td>\n",
       "      <td>18.55</td>\n",
       "    </tr>\n",
       "    <tr>\n",
       "      <th>2019-05-08 11:38:35</th>\n",
       "      <td>NaN</td>\n",
       "      <td>NaN</td>\n",
       "      <td>19.77</td>\n",
       "    </tr>\n",
       "    <tr>\n",
       "      <th>2019-05-08 13:10:18</th>\n",
       "      <td>NaN</td>\n",
       "      <td>NaN</td>\n",
       "      <td>18.04</td>\n",
       "    </tr>\n",
       "  </tbody>\n",
       "</table>\n",
       "<p>2375 rows × 3 columns</p>\n",
       "</div>"
      ],
      "text/plain": [
       "type                 Rural  Suburban  Urban\n",
       "date                                       \n",
       "2019-01-01 00:08:16    NaN       NaN  37.91\n",
       "2019-01-01 00:46:46    NaN     47.74    NaN\n",
       "2019-01-01 02:07:24    NaN     24.07    NaN\n",
       "2019-01-01 03:46:50    NaN       NaN   7.57\n",
       "2019-01-01 05:23:21    NaN       NaN  10.75\n",
       "...                    ...       ...    ...\n",
       "2019-05-08 04:20:00    NaN       NaN  21.99\n",
       "2019-05-08 04:39:49    NaN       NaN  18.45\n",
       "2019-05-08 07:29:01    NaN       NaN  18.55\n",
       "2019-05-08 11:38:35    NaN       NaN  19.77\n",
       "2019-05-08 13:10:18    NaN       NaN  18.04\n",
       "\n",
       "[2375 rows x 3 columns]"
      ]
     },
     "execution_count": 107,
     "metadata": {},
     "output_type": "execute_result"
    }
   ],
   "source": [
    "# 4. Create a pivot table with the 'date' as the index, the columns ='type', and values='fare' \n",
    "# to get the total fares for each type of city by the date. \n",
    "by_date_pyber_data_df = by_date_pyber_data_df.pivot(index = \"date\", columns = \"type\", values = \"fare\")"
   ]
  },
  {
   "cell_type": "code",
   "execution_count": 167,
   "metadata": {},
   "outputs": [
    {
     "data": {
      "text/html": [
       "<div>\n",
       "<style scoped>\n",
       "    .dataframe tbody tr th:only-of-type {\n",
       "        vertical-align: middle;\n",
       "    }\n",
       "\n",
       "    .dataframe tbody tr th {\n",
       "        vertical-align: top;\n",
       "    }\n",
       "\n",
       "    .dataframe thead th {\n",
       "        text-align: right;\n",
       "    }\n",
       "</style>\n",
       "<table border=\"1\" class=\"dataframe\">\n",
       "  <thead>\n",
       "    <tr style=\"text-align: right;\">\n",
       "      <th>type</th>\n",
       "      <th>Rural</th>\n",
       "      <th>Suburban</th>\n",
       "      <th>Urban</th>\n",
       "    </tr>\n",
       "    <tr>\n",
       "      <th>date</th>\n",
       "      <th></th>\n",
       "      <th></th>\n",
       "      <th></th>\n",
       "    </tr>\n",
       "  </thead>\n",
       "  <tbody>\n",
       "    <tr>\n",
       "      <th>2019-01-01 00:08:16</th>\n",
       "      <td>NaN</td>\n",
       "      <td>NaN</td>\n",
       "      <td>37.91</td>\n",
       "    </tr>\n",
       "    <tr>\n",
       "      <th>2019-01-01 00:46:46</th>\n",
       "      <td>NaN</td>\n",
       "      <td>47.74</td>\n",
       "      <td>NaN</td>\n",
       "    </tr>\n",
       "    <tr>\n",
       "      <th>2019-01-01 02:07:24</th>\n",
       "      <td>NaN</td>\n",
       "      <td>24.07</td>\n",
       "      <td>NaN</td>\n",
       "    </tr>\n",
       "    <tr>\n",
       "      <th>2019-01-01 03:46:50</th>\n",
       "      <td>NaN</td>\n",
       "      <td>NaN</td>\n",
       "      <td>7.57</td>\n",
       "    </tr>\n",
       "    <tr>\n",
       "      <th>2019-01-01 05:23:21</th>\n",
       "      <td>NaN</td>\n",
       "      <td>NaN</td>\n",
       "      <td>10.75</td>\n",
       "    </tr>\n",
       "    <tr>\n",
       "      <th>...</th>\n",
       "      <td>...</td>\n",
       "      <td>...</td>\n",
       "      <td>...</td>\n",
       "    </tr>\n",
       "    <tr>\n",
       "      <th>2019-04-27 17:58:27</th>\n",
       "      <td>14.01</td>\n",
       "      <td>NaN</td>\n",
       "      <td>NaN</td>\n",
       "    </tr>\n",
       "    <tr>\n",
       "      <th>2019-04-27 19:45:48</th>\n",
       "      <td>NaN</td>\n",
       "      <td>28.84</td>\n",
       "      <td>NaN</td>\n",
       "    </tr>\n",
       "    <tr>\n",
       "      <th>2019-04-27 20:41:36</th>\n",
       "      <td>NaN</td>\n",
       "      <td>NaN</td>\n",
       "      <td>8.28</td>\n",
       "    </tr>\n",
       "    <tr>\n",
       "      <th>2019-04-27 23:26:03</th>\n",
       "      <td>NaN</td>\n",
       "      <td>NaN</td>\n",
       "      <td>19.06</td>\n",
       "    </tr>\n",
       "    <tr>\n",
       "      <th>2019-04-27 23:52:44</th>\n",
       "      <td>NaN</td>\n",
       "      <td>45.98</td>\n",
       "      <td>NaN</td>\n",
       "    </tr>\n",
       "  </tbody>\n",
       "</table>\n",
       "<p>2177 rows × 3 columns</p>\n",
       "</div>"
      ],
      "text/plain": [
       "type                 Rural  Suburban  Urban\n",
       "date                                       \n",
       "2019-01-01 00:08:16    NaN       NaN  37.91\n",
       "2019-01-01 00:46:46    NaN     47.74    NaN\n",
       "2019-01-01 02:07:24    NaN     24.07    NaN\n",
       "2019-01-01 03:46:50    NaN       NaN   7.57\n",
       "2019-01-01 05:23:21    NaN       NaN  10.75\n",
       "...                    ...       ...    ...\n",
       "2019-04-27 17:58:27  14.01       NaN    NaN\n",
       "2019-04-27 19:45:48    NaN     28.84    NaN\n",
       "2019-04-27 20:41:36    NaN       NaN   8.28\n",
       "2019-04-27 23:26:03    NaN       NaN  19.06\n",
       "2019-04-27 23:52:44    NaN     45.98    NaN\n",
       "\n",
       "[2177 rows x 3 columns]"
      ]
     },
     "execution_count": 167,
     "metadata": {},
     "output_type": "execute_result"
    }
   ],
   "source": [
    "# 5. Create a new DataFrame from the pivot table DataFrame using loc on the given dates, '2019-01-01':'2019-04-29'.\n",
    "first_quarter_pyber_data_df = by_date_pyber_data_df.loc[\"2019-01-01\" : \"2019-04-28\"]\n",
    "first_quarter_pyber_data_df\n"
   ]
  },
  {
   "cell_type": "code",
   "execution_count": 168,
   "metadata": {},
   "outputs": [],
   "source": [
    "# 6. Set the \"date\" index to datetime datatype. This is necessary to use the resample() method in Step 8.\n",
    "# df.index = pd.to_datetime(df.index)\n",
    "first_quarter_pyber_data_df.index = pd.to_datetime(first_quarter_pyber_data_df.index)"
   ]
  },
  {
   "cell_type": "code",
   "execution_count": 169,
   "metadata": {},
   "outputs": [
    {
     "name": "stdout",
     "output_type": "stream",
     "text": [
      "<class 'pandas.core.frame.DataFrame'>\n",
      "DatetimeIndex: 2177 entries, 2019-01-01 00:08:16 to 2019-04-27 23:52:44\n",
      "Data columns (total 3 columns):\n",
      " #   Column    Non-Null Count  Dtype  \n",
      "---  ------    --------------  -----  \n",
      " 0   Rural     114 non-null    float64\n",
      " 1   Suburban  567 non-null    float64\n",
      " 2   Urban     1496 non-null   float64\n",
      "dtypes: float64(3)\n",
      "memory usage: 68.0 KB\n"
     ]
    }
   ],
   "source": [
    "# 7. Check that the datatype for the index is datetime using df.info()\n",
    "first_quarter_pyber_data_df.info()"
   ]
  },
  {
   "cell_type": "code",
   "execution_count": 170,
   "metadata": {},
   "outputs": [
    {
     "data": {
      "text/html": [
       "<div>\n",
       "<style scoped>\n",
       "    .dataframe tbody tr th:only-of-type {\n",
       "        vertical-align: middle;\n",
       "    }\n",
       "\n",
       "    .dataframe tbody tr th {\n",
       "        vertical-align: top;\n",
       "    }\n",
       "\n",
       "    .dataframe thead th {\n",
       "        text-align: right;\n",
       "    }\n",
       "</style>\n",
       "<table border=\"1\" class=\"dataframe\">\n",
       "  <thead>\n",
       "    <tr style=\"text-align: right;\">\n",
       "      <th>type</th>\n",
       "      <th>Rural</th>\n",
       "      <th>Suburban</th>\n",
       "      <th>Urban</th>\n",
       "    </tr>\n",
       "    <tr>\n",
       "      <th>date</th>\n",
       "      <th></th>\n",
       "      <th></th>\n",
       "      <th></th>\n",
       "    </tr>\n",
       "  </thead>\n",
       "  <tbody>\n",
       "    <tr>\n",
       "      <th>2019-01-06</th>\n",
       "      <td>187.92</td>\n",
       "      <td>721.60</td>\n",
       "      <td>1661.68</td>\n",
       "    </tr>\n",
       "    <tr>\n",
       "      <th>2019-01-13</th>\n",
       "      <td>67.65</td>\n",
       "      <td>1105.13</td>\n",
       "      <td>2050.43</td>\n",
       "    </tr>\n",
       "    <tr>\n",
       "      <th>2019-01-20</th>\n",
       "      <td>306.00</td>\n",
       "      <td>1218.20</td>\n",
       "      <td>1939.02</td>\n",
       "    </tr>\n",
       "    <tr>\n",
       "      <th>2019-01-27</th>\n",
       "      <td>179.69</td>\n",
       "      <td>1203.28</td>\n",
       "      <td>2129.51</td>\n",
       "    </tr>\n",
       "    <tr>\n",
       "      <th>2019-02-03</th>\n",
       "      <td>333.08</td>\n",
       "      <td>1042.79</td>\n",
       "      <td>2086.94</td>\n",
       "    </tr>\n",
       "    <tr>\n",
       "      <th>2019-02-10</th>\n",
       "      <td>115.80</td>\n",
       "      <td>974.34</td>\n",
       "      <td>2162.64</td>\n",
       "    </tr>\n",
       "    <tr>\n",
       "      <th>2019-02-17</th>\n",
       "      <td>95.82</td>\n",
       "      <td>1045.50</td>\n",
       "      <td>2235.07</td>\n",
       "    </tr>\n",
       "    <tr>\n",
       "      <th>2019-02-24</th>\n",
       "      <td>419.06</td>\n",
       "      <td>1412.74</td>\n",
       "      <td>2466.29</td>\n",
       "    </tr>\n",
       "    <tr>\n",
       "      <th>2019-03-03</th>\n",
       "      <td>175.14</td>\n",
       "      <td>858.46</td>\n",
       "      <td>2218.20</td>\n",
       "    </tr>\n",
       "    <tr>\n",
       "      <th>2019-03-10</th>\n",
       "      <td>303.94</td>\n",
       "      <td>925.27</td>\n",
       "      <td>2470.93</td>\n",
       "    </tr>\n",
       "    <tr>\n",
       "      <th>2019-03-17</th>\n",
       "      <td>163.39</td>\n",
       "      <td>906.20</td>\n",
       "      <td>2044.42</td>\n",
       "    </tr>\n",
       "    <tr>\n",
       "      <th>2019-03-24</th>\n",
       "      <td>189.76</td>\n",
       "      <td>1122.20</td>\n",
       "      <td>2368.37</td>\n",
       "    </tr>\n",
       "    <tr>\n",
       "      <th>2019-03-31</th>\n",
       "      <td>199.42</td>\n",
       "      <td>1045.06</td>\n",
       "      <td>1942.77</td>\n",
       "    </tr>\n",
       "    <tr>\n",
       "      <th>2019-04-07</th>\n",
       "      <td>501.24</td>\n",
       "      <td>1010.73</td>\n",
       "      <td>2356.70</td>\n",
       "    </tr>\n",
       "    <tr>\n",
       "      <th>2019-04-14</th>\n",
       "      <td>269.79</td>\n",
       "      <td>784.82</td>\n",
       "      <td>2390.72</td>\n",
       "    </tr>\n",
       "    <tr>\n",
       "      <th>2019-04-21</th>\n",
       "      <td>214.14</td>\n",
       "      <td>1149.27</td>\n",
       "      <td>2303.80</td>\n",
       "    </tr>\n",
       "    <tr>\n",
       "      <th>2019-04-28</th>\n",
       "      <td>191.85</td>\n",
       "      <td>1169.04</td>\n",
       "      <td>1909.51</td>\n",
       "    </tr>\n",
       "  </tbody>\n",
       "</table>\n",
       "</div>"
      ],
      "text/plain": [
       "type         Rural  Suburban    Urban\n",
       "date                                 \n",
       "2019-01-06  187.92    721.60  1661.68\n",
       "2019-01-13   67.65   1105.13  2050.43\n",
       "2019-01-20  306.00   1218.20  1939.02\n",
       "2019-01-27  179.69   1203.28  2129.51\n",
       "2019-02-03  333.08   1042.79  2086.94\n",
       "2019-02-10  115.80    974.34  2162.64\n",
       "2019-02-17   95.82   1045.50  2235.07\n",
       "2019-02-24  419.06   1412.74  2466.29\n",
       "2019-03-03  175.14    858.46  2218.20\n",
       "2019-03-10  303.94    925.27  2470.93\n",
       "2019-03-17  163.39    906.20  2044.42\n",
       "2019-03-24  189.76   1122.20  2368.37\n",
       "2019-03-31  199.42   1045.06  1942.77\n",
       "2019-04-07  501.24   1010.73  2356.70\n",
       "2019-04-14  269.79    784.82  2390.72\n",
       "2019-04-21  214.14   1149.27  2303.80\n",
       "2019-04-28  191.85   1169.04  1909.51"
      ]
     },
     "execution_count": 170,
     "metadata": {},
     "output_type": "execute_result"
    }
   ],
   "source": [
    "# 8. Create a new DataFrame using the \"resample()\" function by week 'W' and get the sum of the fares for each week.\n",
    "first_quarter_pyber_data_by_week_df = first_quarter_pyber_data_df.resample(\"W\").sum()\n",
    "first_quarter_pyber_data_by_week_df"
   ]
  },
  {
   "cell_type": "code",
   "execution_count": 171,
   "metadata": {},
   "outputs": [
    {
     "data": {
      "application/vnd.jupyter.widget-view+json": {
       "model_id": "01f6adadfee54928b52be5daa6902f1c",
       "version_major": 2,
       "version_minor": 0
      },
      "image/png": "[encoded data removed]",
      "text/html": [
       "\n",
       "            <div style=\"display: inline-block;\">\n",
       "                <div class=\"jupyter-widgets widget-label\" style=\"text-align: center;\">\n",
       "                    Figure\n",
       "                </div>\n",
       "                <img src='data:image/png;base64,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' width=1500.0/>\n",
       "            </div>\n",
       "        "
      ],
      "text/plain": [
       "Canvas(toolbar=Toolbar(toolitems=[('Home', 'Reset original view', 'home', 'home'), ('Back', 'Back to previous …"
      ]
     },
     "metadata": {},
     "output_type": "display_data"
    }
   ],
   "source": [
    "# 8. Using the object-oriented interface method, plot the resample DataFrame using the df.plot() function. \n",
    "\n",
    "# Import the style from Matplotlib.\n",
    "from matplotlib import style\n",
    "# Use the graph style fivethirtyeight.\n",
    "style.use('fivethirtyeight')\n",
    "\n",
    "first_quarter_pyber_data_by_week_df.plot(\n",
    "    title = \"Total Fare by City Type\",\n",
    "    ylabel = \"Fare ($USD)\",\n",
    "    figsize = (15, 4),\n",
    "    linewidth = 2\n",
    "    )\n",
    "\n",
    "plt.savefig(os.path.join(\"analysis\", \"PyBer_fare_summary.png\"))"
   ]
  }
 ],
 "metadata": {
  "anaconda-cloud": {},
  "kernelspec": {
   "display_name": "PythonData",
   "language": "python",
   "name": "pythondata"
  },
  "language_info": {
   "codemirror_mode": {
    "name": "ipython",
    "version": 3
   },
   "file_extension": ".py",
   "mimetype": "text/x-python",
   "name": "python",
   "nbconvert_exporter": "python",
   "pygments_lexer": "ipython3",
   "version": "3.6.10"
  }
 },
 "nbformat": 4,
 "nbformat_minor": 2
}
